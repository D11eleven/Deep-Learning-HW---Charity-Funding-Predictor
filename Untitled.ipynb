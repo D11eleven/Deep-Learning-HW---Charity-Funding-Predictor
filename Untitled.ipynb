{
 "cells": [
  {
   "cell_type": "markdown",
   "metadata": {},
   "source": [
    "### Step 4: Write a Report on the Neural Network Model\n",
    "\n",
    "For this part of the Challenge, you’ll write a report on the performance of the deep learning model you created for AlphabetSoup.\n",
    "\n",
    "The report should contain the following:\n",
    "\n",
    "1. **Overview** of the analysis: Explain the purpose of this analysis.\n",
    "\n",
    "2. **Results**: Using bulleted lists and images to support your answers, address the following questions.\n",
    "\n",
    "  * Data Preprocessing\n",
    "    * What variable(s) are considered the target(s) for your model?\n",
    "    * What variable(s) are considered to be the features for your model?\n",
    "    * What variable(s) are neither targets nor features, and should be removed from the input data?\n",
    "  * Compiling, Training, and Evaluating the Model\n",
    "    * How many neurons, layers, and activation functions did you select for your neural network model, and why?\n",
    "    * Were you able to achieve the target model performance?\n",
    "    * What steps did you take to try and increase model performance?\n",
    "\n",
    "3. **Summary**: Summarize the overall results of the deep learning model. Include a recommendation for how a different model could solve this classification problem, and explain your recommendation.\n"
   ]
  }
 ],
 "metadata": {
  "kernelspec": {
   "display_name": "Python [conda env:PythonData] *",
   "language": "python",
   "name": "conda-env-PythonData-py"
  },
  "language_info": {
   "codemirror_mode": {
    "name": "ipython",
    "version": 3
   },
   "file_extension": ".py",
   "mimetype": "text/x-python",
   "name": "python",
   "nbconvert_exporter": "python",
   "pygments_lexer": "ipython3",
   "version": "3.6.10"
  }
 },
 "nbformat": 4,
 "nbformat_minor": 4
}
